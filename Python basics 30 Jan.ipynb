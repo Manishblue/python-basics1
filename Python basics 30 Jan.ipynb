{
 "cells": [
  {
   "cell_type": "code",
   "execution_count": 1,
   "id": "ee468fb9-55a3-4eda-8489-ccae25555ea8",
   "metadata": {},
   "outputs": [],
   "source": [
    "#q1 write program to accept % from user and display grade if marks >90 ,A,>80 and<=90 ,B,>=60 and<=80,c,below 60 d"
   ]
  },
  {
   "cell_type": "code",
   "execution_count": 3,
   "id": "548ff01a-7e6c-47a3-a30d-37be0a1f1dc9",
   "metadata": {},
   "outputs": [
    {
     "name": "stdin",
     "output_type": "stream",
     "text": [
      "Enter the percentage:  78\n"
     ]
    },
    {
     "name": "stdout",
     "output_type": "stream",
     "text": [
      "Grade: C\n"
     ]
    }
   ],
   "source": [
    "def calculate_grade(percentage):\n",
    "    if percentage > 90:\n",
    "        return 'A'\n",
    "    elif 80 < percentage <= 90:\n",
    "        return 'B'\n",
    "    elif 60 <= percentage <= 80:\n",
    "        return 'C'\n",
    "    else:\n",
    "        return 'D'\n",
    "\n",
    "try:\n",
    "    # Get the percentage from the user\n",
    "    percentage = float(input(\"Enter the percentage: \"))\n",
    "\n",
    "    # Validate that the percentage is within the valid range (0 to 100)\n",
    "    if 0 <= percentage <= 100:\n",
    "        # Calculate and display the grade\n",
    "        grade = calculate_grade(percentage)\n",
    "        print(f\"Grade: {grade}\")\n",
    "    else:\n",
    "        print(\"Invalid input. Please enter a percentage between 0 and 100.\")\n",
    "except ValueError:\n",
    "    print(\"Invalid input. Please enter a valid numeric value.\")"
   ]
  },
  {
   "cell_type": "code",
   "execution_count": 4,
   "id": "e53031ed-1c74-4cf3-969b-aa1d35feee12",
   "metadata": {},
   "outputs": [],
   "source": [
    "#q2 write program to accept cost price bike and display road tax to be paid criteria tax 15%,>100000,10%<50000 and <=100000,5%<=50000"
   ]
  },
  {
   "cell_type": "code",
   "execution_count": 5,
   "id": "9cf0d65c-e29b-4581-8228-445951cf7c6f",
   "metadata": {},
   "outputs": [
    {
     "name": "stdin",
     "output_type": "stream",
     "text": [
      "Enter the cost price of the bike:  234354365\n"
     ]
    },
    {
     "name": "stdout",
     "output_type": "stream",
     "text": [
      "Road Tax to be paid: 35153154.75 INR\n"
     ]
    }
   ],
   "source": [
    "def calculate_road_tax(cost_price):\n",
    "    if cost_price > 100000:\n",
    "        return 0.15 * cost_price\n",
    "    elif 50000 < cost_price <= 100000:\n",
    "        return 0.10 * cost_price\n",
    "    elif cost_price <= 50000:\n",
    "        return 0.05 * cost_price\n",
    "\n",
    "try:\n",
    "    # Get the cost price of the bike from the user\n",
    "    cost_price = float(input(\"Enter the cost price of the bike: \"))\n",
    "\n",
    "    # Validate that the cost price is a positive value\n",
    "    if cost_price >= 0:\n",
    "        # Calculate and display the road tax\n",
    "        road_tax = calculate_road_tax(cost_price)\n",
    "        if road_tax is not None:\n",
    "            print(f\"Road Tax to be paid: {road_tax:.2f} INR\")\n",
    "        else:\n",
    "            print(\"Invalid cost price. Please enter a valid positive value.\")\n",
    "    else:\n",
    "        print(\"Invalid input. Please enter a valid positive value for the cost price.\")\n",
    "except ValueError:\n",
    "    print(\"Invalid input. Please enter a valid numeric value for the cost price.\")"
   ]
  },
  {
   "cell_type": "code",
   "execution_count": 6,
   "id": "58165e10-405a-45d2-b9a7-1ed8093106b4",
   "metadata": {},
   "outputs": [],
   "source": [
    "#q3  accept any city and display monuments delhi red fort,agra taj mahal,jaipur jal mahal"
   ]
  },
  {
   "cell_type": "code",
   "execution_count": 7,
   "id": "0bc5dd46-b46c-4b0d-8d97-84bb29a892ff",
   "metadata": {},
   "outputs": [
    {
     "name": "stdin",
     "output_type": "stream",
     "text": [
      "Enter the name of a city:  delhi\n"
     ]
    },
    {
     "name": "stdout",
     "output_type": "stream",
     "text": [
      "Monuments in Delhi:\n",
      "- Red Fort\n"
     ]
    }
   ],
   "source": [
    "def display_monuments(city):\n",
    "    if city.lower() == 'delhi':\n",
    "        print(\"Monuments in Delhi:\")\n",
    "        print(\"- Red Fort\")\n",
    "    elif city.lower() == 'agra':\n",
    "        print(\"Monuments in Agra:\")\n",
    "        print(\"- Taj Mahal\")\n",
    "    elif city.lower() == 'jaipur':\n",
    "        print(\"Monuments in Jaipur:\")\n",
    "        print(\"- Jal Mahal\")\n",
    "    else:\n",
    "        print(f\"Monuments information not available for {city}.\")\n",
    "\n",
    "try:\n",
    "    # Get the city name from the user\n",
    "    city_name = input(\"Enter the name of a city: \")\n",
    "\n",
    "    # Display monuments based on the provided criteria\n",
    "    display_monuments(city_name)\n",
    "except Exception as e:\n",
    "    print(f\"An error occurred: {e}\")"
   ]
  },
  {
   "cell_type": "code",
   "execution_count": 8,
   "id": "42a7263e-47d1-4d59-8790-b0b0a65e280d",
   "metadata": {},
   "outputs": [],
   "source": [
    "#q4 how many times given number can be divided by 3 before it is less than equal to 10\n"
   ]
  },
  {
   "cell_type": "code",
   "execution_count": 9,
   "id": "594c0670-c2dc-4d99-8117-6a0607fca255",
   "metadata": {},
   "outputs": [
    {
     "name": "stdin",
     "output_type": "stream",
     "text": [
      "Enter a number:  3456\n"
     ]
    },
    {
     "name": "stdout",
     "output_type": "stream",
     "text": [
      "The given number can be divided by 3 6 times before it is less than or equal to 10.\n"
     ]
    }
   ],
   "source": [
    "def count_divisions(number):\n",
    "    count = 0\n",
    "    while number > 10:\n",
    "        number /= 3\n",
    "        count += 1\n",
    "    return count\n",
    "\n",
    "try:\n",
    "    # Get the number from the user\n",
    "    input_number = float(input(\"Enter a number: \"))\n",
    "\n",
    "    # Check if the entered number is positive\n",
    "    if input_number > 0:\n",
    "        # Calculate and display the count of divisions\n",
    "        divisions_count = count_divisions(input_number)\n",
    "        print(f\"The given number can be divided by 3 {divisions_count} times before it is less than or equal to 10.\")\n",
    "    else:\n",
    "        print(\"Invalid input. Please enter a positive number.\")\n",
    "except ValueError:\n",
    "    print(\"Invalid input. Please enter a valid numeric value.\")"
   ]
  },
  {
   "cell_type": "code",
   "execution_count": 10,
   "id": "c8ee8b63-9eaa-4048-8f48-0b5adfef9355",
   "metadata": {},
   "outputs": [],
   "source": [
    "#q5 why and when while loop used in python give detailed description an excample\n",
    "\n"
   ]
  },
  {
   "cell_type": "code",
   "execution_count": 15,
   "id": "0a0c6e82-e85d-4ad0-8b60-6321b19d7870",
   "metadata": {},
   "outputs": [],
   "source": [
    "# The while loop in Python is used for repeated execution of a block of statements as long as a specified condition evaluates to True. It is often used when the number of iterations is not known beforehand and depends on a certain condition. The loop continues to execute as long as the specified condition remains True."
   ]
  },
  {
   "cell_type": "code",
   "execution_count": 16,
   "id": "0929536e-110f-40b5-922f-e35858bac354",
   "metadata": {},
   "outputs": [
    {
     "name": "stdout",
     "output_type": "stream",
     "text": [
      "1\n",
      "2\n",
      "3\n",
      "4\n",
      "5\n"
     ]
    }
   ],
   "source": [
    "counter = 1\n",
    "while counter <= 5:\n",
    "    print(counter)\n",
    "    counter += 1"
   ]
  },
  {
   "cell_type": "code",
   "execution_count": 17,
   "id": "e06196fc-1929-4df9-8cb7-91a4841dae04",
   "metadata": {},
   "outputs": [],
   "source": [
    "# In this example:\n",
    "\n",
    "# The counter variable is initialized to 1.\n",
    "# The while loop checks the condition counter <= 5. As long as this condition is True, the code block inside the loop is executed.\n",
    "# Inside the loop, the value of counter is printed, and then it is incremented by 1 (counter += 1).\n",
    "# The loop continues to execute until the condition counter <= 5 becomes False. Once the condition is False, the loop terminates.\n",
    "# Common Use Cases:\n",
    "\n",
    "# Unknown Iterations: When the number of iterations is not known in advance and depends on a condition."
   ]
  },
  {
   "cell_type": "code",
   "execution_count": 18,
   "id": "3e0789b9-a647-461d-9ae2-68af5809d601",
   "metadata": {},
   "outputs": [
    {
     "name": "stdin",
     "output_type": "stream",
     "text": [
      "Enter a number:  3\n"
     ]
    }
   ],
   "source": [
    "# Example: Keep asking the user for input until a valid number is entered\n",
    "user_input = None\n",
    "while not user_input:\n",
    "    user_input = input(\"Enter a number: \")"
   ]
  },
  {
   "cell_type": "code",
   "execution_count": 19,
   "id": "451b2b64-8a1c-42b1-b87f-0a24de290b11",
   "metadata": {},
   "outputs": [],
   "source": [
    "# Continuous Monitoring: In scenarios where a program needs to continuously monitor a condition or perform a task until a certain condition is met."
   ]
  },
  {
   "cell_type": "code",
   "execution_count": 20,
   "id": "7b79ec90-60ca-46c5-854e-8a2981c9f290",
   "metadata": {},
   "outputs": [
    {
     "name": "stdin",
     "output_type": "stream",
     "text": [
      "Enter your move (or 'quit' to exit):  uk\n",
      "Enter your move (or 'quit' to exit):  quit\n"
     ]
    }
   ],
   "source": [
    "# Example: Simulating a game where a player keeps taking actions until they decide to quit\n",
    "game_running = True\n",
    "while game_running:\n",
    "    action = input(\"Enter your move (or 'quit' to exit): \")\n",
    "    if action.lower() == 'quit':\n",
    "        game_running = False"
   ]
  },
  {
   "cell_type": "code",
   "execution_count": 21,
   "id": "9f60184d-6631-4f6a-9f8f-802a18f831fe",
   "metadata": {},
   "outputs": [],
   "source": [
    "# Infinite Loop with Break: A while loop can also be used to create an infinite loop, which can be terminated using a break statement based on some condition."
   ]
  },
  {
   "cell_type": "code",
   "execution_count": 22,
   "id": "b71af3ef-1ddf-4c0f-97af-1b0104f3add0",
   "metadata": {},
   "outputs": [
    {
     "name": "stdin",
     "output_type": "stream",
     "text": [
      "Enter a command ('exit' to quit):  exit\n"
     ]
    }
   ],
   "source": [
    "# Example: Infinite loop asking the user for input until 'exit' is entered\n",
    "while True:\n",
    "    user_input = input(\"Enter a command ('exit' to quit): \")\n",
    "    if user_input.lower() == 'exit':\n",
    "        break"
   ]
  },
  {
   "cell_type": "code",
   "execution_count": 23,
   "id": "9f4296b4-1cbb-403e-ba89-cac4bb1ab812",
   "metadata": {},
   "outputs": [],
   "source": [
    "# Caution:\n",
    "# While using while loops, it's important to ensure that the loop condition eventually becomes False to avoid an infinite loop. Always include a mechanism to break out of the loop or make sure the loop condition becomes False at some point."
   ]
  },
  {
   "cell_type": "code",
   "execution_count": 24,
   "id": "9bb05a4d-a301-4b2b-bf4e-42928647042a",
   "metadata": {},
   "outputs": [],
   "source": [
    "#q6 use nested while loop to 3 different pattern"
   ]
  },
  {
   "cell_type": "code",
   "execution_count": 25,
   "id": "3f085b2d-89c2-4538-8987-997240eeecad",
   "metadata": {},
   "outputs": [],
   "source": [
    "#Pattern 1: Right-angled Triangle"
   ]
  },
  {
   "cell_type": "code",
   "execution_count": 26,
   "id": "7978c9ad-f75d-4979-b476-7c91ec3a9408",
   "metadata": {},
   "outputs": [
    {
     "name": "stdout",
     "output_type": "stream",
     "text": [
      "* \n",
      "* * \n",
      "* * * \n",
      "* * * * \n",
      "* * * * * \n"
     ]
    }
   ],
   "source": [
    "rows = 5\n",
    "i = 1\n",
    "\n",
    "while i <= rows:\n",
    "    j = 1\n",
    "    while j <= i:\n",
    "        print(\"*\", end=' ')\n",
    "        j += 1\n",
    "    print()\n",
    "    i += 1"
   ]
  },
  {
   "cell_type": "code",
   "execution_count": 27,
   "id": "c5bac1b5-7e3b-49d0-a6c3-881ef63f69e2",
   "metadata": {},
   "outputs": [],
   "source": [
    "#Pattern 2: Square"
   ]
  },
  {
   "cell_type": "code",
   "execution_count": 28,
   "id": "43b8d1d1-3018-4bd5-bfa1-45fd65a4e5bd",
   "metadata": {},
   "outputs": [
    {
     "name": "stdout",
     "output_type": "stream",
     "text": [
      "* * * * * \n",
      "* * * * * \n",
      "* * * * * \n",
      "* * * * * \n",
      "* * * * * \n"
     ]
    }
   ],
   "source": [
    "rows = 5\n",
    "i = 1\n",
    "\n",
    "while i <= rows:\n",
    "    j = 1\n",
    "    while j <= rows:\n",
    "        print(\"*\", end=' ')\n",
    "        j += 1\n",
    "    print()\n",
    "    i += 1"
   ]
  },
  {
   "cell_type": "code",
   "execution_count": 29,
   "id": "fe32f147-5c5f-4f2a-9812-5f24a13864cc",
   "metadata": {},
   "outputs": [],
   "source": [
    "#Pattern 3: Inverted Right-angled Triangle"
   ]
  },
  {
   "cell_type": "code",
   "execution_count": 30,
   "id": "077c7bef-30f4-4023-a30d-1de2a5d40b40",
   "metadata": {},
   "outputs": [
    {
     "name": "stdout",
     "output_type": "stream",
     "text": [
      "* * * * * \n",
      "* * * * \n",
      "* * * \n",
      "* * \n",
      "* \n"
     ]
    }
   ],
   "source": [
    "rows = 5\n",
    "i = rows\n",
    "\n",
    "while i >= 1:\n",
    "    j = 1\n",
    "    while j <= i:\n",
    "        print(\"*\", end=' ')\n",
    "        j += 1\n",
    "    print()\n",
    "    i -= 1"
   ]
  },
  {
   "cell_type": "code",
   "execution_count": 31,
   "id": "8923ac64-c1af-44f3-9712-9f797f6498b7",
   "metadata": {},
   "outputs": [],
   "source": [
    "# You can adjust the rows variable to change the size of the patterns. These examples use nested while loops to iterate through rows and columns, printing '*' characters to create the desired patterns. Feel free to modify the patterns according to your requirements."
   ]
  },
  {
   "cell_type": "code",
   "execution_count": 32,
   "id": "02140d0b-9e33-42f0-bfa3-eec6cfce5e2f",
   "metadata": {},
   "outputs": [],
   "source": [
    "#q6 reverse while loop display numbers from 10 to 1"
   ]
  },
  {
   "cell_type": "code",
   "execution_count": 33,
   "id": "a4eb1df2-7345-4e8c-ac66-bb1e0d1a50fa",
   "metadata": {},
   "outputs": [
    {
     "name": "stdout",
     "output_type": "stream",
     "text": [
      "10\n",
      "9\n",
      "8\n",
      "7\n",
      "6\n",
      "5\n",
      "4\n",
      "3\n",
      "2\n",
      "1\n"
     ]
    }
   ],
   "source": [
    "number = 10\n",
    "\n",
    "while number >= 1:\n",
    "    print(number)\n",
    "    number -= 1"
   ]
  },
  {
   "cell_type": "code",
   "execution_count": 34,
   "id": "ac9c72f9-5124-44ab-bdfd-166e7334363a",
   "metadata": {},
   "outputs": [],
   "source": [
    "\n",
    "# Certainly! You can use a while loop to display numbers in reverse order from 10 to 1. Here's an example:\n",
    "\n",
    "# python\n",
    "# Copy code\n",
    "# number = 10\n",
    "\n",
    "# while number >= 1:\n",
    "#     print(number)\n",
    "#     number -= 1\n",
    "# In this example:\n",
    "\n",
    "# number is initially set to 10.\n",
    "# The while loop checks the condition number >= 1. As long as this condition is True, the code block inside the loop is executed.\n",
    "# Inside the loop, the current value of number is printed, and then it is decremented by 1 (number -= 1).\n",
    "# The loop continues to execute until the condition number >= 1 becomes False. Once the condition is False, the loop terminates.\n",
    "# This program will output numbers in reverse order from 10 to 1. You can adjust the initial value of number or customize the loop as needed."
   ]
  },
  {
   "cell_type": "code",
   "execution_count": null,
   "id": "6d4bed25-9d59-4f89-a545-5dad9e25e15e",
   "metadata": {},
   "outputs": [],
   "source": []
  }
 ],
 "metadata": {
  "kernelspec": {
   "display_name": "Python 3 (ipykernel)",
   "language": "python",
   "name": "python3"
  },
  "language_info": {
   "codemirror_mode": {
    "name": "ipython",
    "version": 3
   },
   "file_extension": ".py",
   "mimetype": "text/x-python",
   "name": "python",
   "nbconvert_exporter": "python",
   "pygments_lexer": "ipython3",
   "version": "3.10.8"
  }
 },
 "nbformat": 4,
 "nbformat_minor": 5
}
